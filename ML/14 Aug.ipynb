{
 "cells": [
  {
   "cell_type": "code",
   "execution_count": 37,
   "id": "b7d9aa7d-58f2-49ff-aca3-ae4f80b313cb",
   "metadata": {},
   "outputs": [],
   "source": [
    "import pandas as pd\n",
    "import numpy as np\n",
    "import random as rd"
   ]
  },
  {
   "cell_type": "code",
   "execution_count": 20,
   "id": "b2a1794b-289b-4c53-a8f2-412072093be4",
   "metadata": {},
   "outputs": [
    {
     "name": "stdout",
     "output_type": "stream",
     "text": [
      "      Name   Age  Gender  Math_Score  Science_Score Passed_Exam\n",
      "0    Alice  25.0  Female          85           90.0         Yes\n",
      "1      Bob  30.0    Male          92            NaN         Yes\n",
      "2  Charlie   NaN    Male          78           85.0          No\n",
      "3    David  28.0    Male          88           92.0         Yes\n",
      "4    Emily  24.0  Female          76           88.0          No\n"
     ]
    }
   ],
   "source": [
    "data = {\n",
    "    'Name' : ['Alice', 'Bob', 'Charlie', 'David', 'Emily'],\n",
    "    'Age':[25 ,30, None, 28, 24],\n",
    "    'Gender': ['Female', 'Male', 'Male', 'Male', 'Female'],\n",
    "    'Math_Score':[85, 92, 78, 88, 76],\n",
    "    'Science_Score':[90, None, 85, 92, 88],\n",
    "    'Passed_Exam':['Yes', 'Yes', 'No', 'Yes', 'No']\n",
    "}\n",
    "df = pd.DataFrame(data)\n",
    "print(df)"
   ]
  },
  {
   "cell_type": "code",
   "execution_count": 32,
   "id": "f90e5f3c-97d6-4a99-8382-2c2c3b31f452",
   "metadata": {},
   "outputs": [
    {
     "name": "stdout",
     "output_type": "stream",
     "text": [
      "               Name   Age  Gender  Math_Score  Science_Score Passed_Exam\n",
      "Date                                                                    \n",
      "2024-08-14    Alice  25.0  Female          85           90.0         Yes\n",
      "2024-08-15      Bob  30.0    Male          92            NaN         Yes\n",
      "2024-08-16  Charlie   NaN    Male          78           85.0          No\n",
      "2024-08-17    David  28.0    Male          88           92.0         Yes\n",
      "2024-08-18    Emily  24.0  Female          76           88.0          No\n"
     ]
    }
   ],
   "source": [
    "df['Date'] = pd.date_range(start='2024-08-14', periods=len(df),freq='D')\n",
    "df=df.set_index('Date')\n",
    "print(df)"
   ]
  },
  {
   "cell_type": "code",
   "execution_count": 45,
   "id": "4a16f369-7082-4d71-9771-e4dbf84ad52d",
   "metadata": {},
   "outputs": [
    {
     "name": "stdout",
     "output_type": "stream",
     "text": [
      "   Name  Age  Gender  Math_Score  Science_Score\n",
      "0     0   25       0          85             90\n",
      "1     0   30       0          92              0\n",
      "2     0    0       0          78             85\n",
      "3     0   28       0          88             92\n",
      "4     0   24       0          76             88\n"
     ]
    }
   ],
   "source": [
    "data={\n",
    "    'Name' : [0,0,0,0,0],\n",
    "    'Age':[25 ,30, 0, 28, 24],\n",
    "    'Gender': [0,0,0,0,0],\n",
    "    'Math_Score':[85, 92, 78, 88, 76],\n",
    "    'Science_Score':[90, 0, 85, 92, 88],\n",
    "}\n",
    "df = pd.DataFrame(data)\n",
    "print(df)"
   ]
  },
  {
   "cell_type": "code",
   "execution_count": 54,
   "id": "40efdd1a-bb0e-48f0-9481-e7e5095ce027",
   "metadata": {},
   "outputs": [
    {
     "name": "stdout",
     "output_type": "stream",
     "text": [
      "0\n",
      "1\n",
      "2\n",
      "3\n",
      "4\n",
      "0\n",
      "1\n",
      "2\n",
      "3\n",
      "4\n",
      "0\n",
      "1\n",
      "2\n",
      "3\n",
      "4\n",
      "0\n",
      "1\n",
      "2\n",
      "3\n",
      "4\n",
      "0\n",
      "1\n",
      "2\n",
      "3\n",
      "4\n",
      "   Name  Age  Gender  Math_Score  Science_Score\n",
      "0   722  121     589         532            915\n",
      "1   754  271     822         952            352\n",
      "2   885  504     557         357            590\n",
      "3   719  443     133         419            842\n",
      "4   849  774     390         278            694\n"
     ]
    }
   ],
   "source": [
    "for row in range(df.shape[0]):\n",
    "    # print(row)\n",
    "    for col in range(df.shape[1]):\n",
    "        print(col)\n",
    "        df.iat[row, col]=rd.randint(1,1000)\n",
    "print(df)"
   ]
  },
  {
   "cell_type": "code",
   "execution_count": null,
   "id": "05d8c0e0-6903-4f62-a937-0be33199da1b",
   "metadata": {},
   "outputs": [],
   "source": []
  }
 ],
 "metadata": {
  "kernelspec": {
   "display_name": "Python 3 (ipykernel)",
   "language": "python",
   "name": "python3"
  },
  "language_info": {
   "codemirror_mode": {
    "name": "ipython",
    "version": 3
   },
   "file_extension": ".py",
   "mimetype": "text/x-python",
   "name": "python",
   "nbconvert_exporter": "python",
   "pygments_lexer": "ipython3",
   "version": "3.11.9"
  }
 },
 "nbformat": 4,
 "nbformat_minor": 5
}
