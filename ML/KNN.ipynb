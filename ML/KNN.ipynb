{
 "cells": [
  {
   "cell_type": "code",
   "execution_count": 2,
   "id": "f10cb7c9-d292-48aa-b369-6c028e36f106",
   "metadata": {},
   "outputs": [],
   "source": [
    "import numpy as np\n"
   ]
  },
  {
   "cell_type": "code",
   "execution_count": 23,
   "id": "2950968c-4657-4f5c-9bb1-c8e61aa4a471",
   "metadata": {},
   "outputs": [],
   "source": [
    "#calculate eucledian distance\n",
    "def euclidean_distance(point1, point2):\n",
    "    return np.sqrt(np.sum((point1- point2)**2))"
   ]
  },
  {
   "cell_type": "code",
   "execution_count": 40,
   "id": "2eba5f2a-1605-4f73-9495-ab580ba51048",
   "metadata": {},
   "outputs": [],
   "source": [
    "#KNN algorithm\n",
    "def KNN(data,new_customer):\n",
    "    K=3\n",
    "    dist=[]\n",
    "    for i in range (len(data)):\n",
    "        dist.append((euclidean_distance(data[i],new_customer),label[i]))\n",
    "        \n",
    "    # Sorting according to 1st value\n",
    "    dist.sort()\n",
    "    dist.sort(key=lambda)\n",
    "\n",
    "    ans=[0,0]\n",
    "    for i in range (K):\n",
    "        ans[dist[i][1]]+=1\n",
    "\n",
    "    if(ans[0]>=ans[1]):\n",
    "        return 0\n",
    "    else:\n",
    "        return 1\n",
    "    \n",
    "    \n"
   ]
  },
  {
   "cell_type": "code",
   "execution_count": 43,
   "id": "a44dace3-b8e3-4caf-9d61-b03db5697a48",
   "metadata": {},
   "outputs": [
    {
     "name": "stdout",
     "output_type": "stream",
     "text": [
      "Predicted label for (30,60) belong to class 1\n"
     ]
    }
   ],
   "source": [
    "# create dataset\n",
    "data=np.array(\n",
    "    [[25,45],\n",
    "    [35,70],\n",
    "    [45,50],\n",
    "    [32,85],\n",
    "    [28,65]]\n",
    ")\n",
    "\n",
    "#Define class label (low spender =0, high spender =1)\n",
    "label = np.array([0,1,0,1,1])\n",
    "\n",
    "#Define the new customaer to classify (Age =30, income= 60) // value that we need to predict\n",
    "new_customer = np.array([30, 60])\n",
    "\n",
    "result=KNN(data,new_customer)\n",
    "print(f'Predicted label for ({new_customer[0]},{new_customer[1]}) belong to class {result}')\n"
   ]
  },
  {
   "cell_type": "code",
   "execution_count": null,
   "id": "f29db4b4-1dfe-4ae3-86b1-b277370b5450",
   "metadata": {},
   "outputs": [],
   "source": []
  }
 ],
 "metadata": {
  "kernelspec": {
   "display_name": "Python 3 (ipykernel)",
   "language": "python",
   "name": "python3"
  },
  "language_info": {
   "codemirror_mode": {
    "name": "ipython",
    "version": 3
   },
   "file_extension": ".py",
   "mimetype": "text/x-python",
   "name": "python",
   "nbconvert_exporter": "python",
   "pygments_lexer": "ipython3",
   "version": "3.11.9"
  }
 },
 "nbformat": 4,
 "nbformat_minor": 5
}
